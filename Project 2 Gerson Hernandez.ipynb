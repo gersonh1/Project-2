{
 "cells": [
  {
   "cell_type": "code",
   "execution_count": null,
   "metadata": {},
   "outputs": [
    {
     "name": "stdout",
     "output_type": "stream",
     "text": [
      "Current word\n",
      "_\n",
      "_\n",
      "_\n",
      "_\n",
      "_\n",
      "_\n",
      "_\n",
      "_\n",
      "Guess a letter:g\n",
      "Your letter, g  is not in the word.\n",
      "You have  9  lives left and you have used these letters:  g\n",
      "_\n",
      "_\n",
      "_\n",
      "_\n",
      "_\n",
      "_\n",
      "_\n",
      "_\n",
      "Guess a letter:S\n",
      "_\n",
      "_\n",
      "_\n",
      "_\n",
      "S\n",
      "_\n",
      "_\n",
      "_\n",
      "Guess a letter:T\n",
      "Your letter, T  is not in the word.\n",
      "You have  8  lives left and you have used these letters:  gST\n",
      "_\n",
      "_\n",
      "_\n",
      "_\n",
      "S\n",
      "_\n",
      "_\n",
      "_\n"
     ]
    }
   ],
   "source": [
    "import random\n",
    "rng = [\"WFIDSPQZ\", \"XHO' 'TTDBFRT\", \"QQJYF\", \"ENQD\", \"DNPK\", \"CNTR\", \"EHWHOD\", \"TSVMOHOF\", \"XNOCFQGTM\"]\n",
    "randomW = random.choice(rng)\n",
    "print(\"Current word\")\n",
    "guesses = ''\n",
    "turns = 10\n",
    "while turns > 0:\n",
    "   fail = 0\n",
    "   for char in randomW:\n",
    "       if char in guesses:\n",
    "           print(char)\n",
    "       else:\n",
    "           print(\"_\")\n",
    "           fail += 1          \n",
    "   if fail == 0:\n",
    "       print(\"YAY! You guessed the word \", randomW, \"!!\")\n",
    "       print(\"This was the encrypted message!\")\n",
    "       print(\"The decoded message says: \", randomW)\n",
    "       break \n",
    "        \n",
    "   guess = input(\"Guess a letter:\")  \n",
    "   guesses += guess\n",
    "   if guess not in randomW:\n",
    "       turns -= 1\n",
    "       print(\"Your letter,\", guess, \" is not in the word.\")\n",
    "       print(\"You have \", + turns, ' lives left and you have used these letters: ', guesses)\n",
    "       if turns == 0:\n",
    "           print(\"\\nYou weren't able to uncover the word\")\n",
    "           print(\"The word is:\", randomW)"
   ]
  },
  {
   "cell_type": "code",
   "execution_count": null,
   "metadata": {},
   "outputs": [],
   "source": []
  }
 ],
 "metadata": {
  "kernelspec": {
   "display_name": "Python 3",
   "language": "python",
   "name": "python3"
  },
  "language_info": {
   "codemirror_mode": {
    "name": "ipython",
    "version": 3
   },
   "file_extension": ".py",
   "mimetype": "text/x-python",
   "name": "python",
   "nbconvert_exporter": "python",
   "pygments_lexer": "ipython3",
   "version": "3.6.11"
  }
 },
 "nbformat": 4,
 "nbformat_minor": 4
}
